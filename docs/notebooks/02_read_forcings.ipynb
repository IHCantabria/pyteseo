{
 "cells": [
  {
   "attachments": {},
   "cell_type": "markdown",
   "metadata": {},
   "source": [
    "## Install pyTESEO\n",
    "- If you are running this notebook from `Google colab` uncomment and run `!pip install pytest and pytest-run` in the cell below. \n",
    "Doing this you will install `pyteseo` from `pypi` repository and run `pyteseo-tests` to check the installation (all tests have to succeed).\n",
    "\n",
    "- If you are using this notebook in your own local environement you should have installed all the requiered dependencies defined in `pyproject.toml` or `environment.yml`."
   ]
  },
  {
   "cell_type": "code",
   "execution_count": 13,
   "metadata": {},
   "outputs": [],
   "source": [
    "# !pip install pyteseo && pyteseo-tests"
   ]
  },
  {
   "attachments": {},
   "cell_type": "markdown",
   "metadata": {},
   "source": [
    "## Read TESEO's forcings files (currents and winds) and plot them.\n",
    "1. Read bathymetry and coastline from TESEO's format files"
   ]
  },
  {
   "cell_type": "code",
   "execution_count": 14,
   "metadata": {},
   "outputs": [],
   "source": [
    "import warnings\n",
    "\n",
    "warnings.simplefilter(action=\"ignore\")\n",
    "\n",
    "import numpy as np\n",
    "from matplotlib.animation import FuncAnimation\n",
    "import pandas as pd\n",
    "from matplotlib import pyplot as plt\n",
    "from matplotlib import rc\n",
    "from pathlib import Path\n",
    "from pyteseo.io import read_currents, read_winds\n",
    "import pyteseo.tests as tests_\n",
    "\n",
    "# path where example data needed by the use case is located\n",
    "data_path = Path(tests_.__file__).parent / \"data\"\n",
    "lstcurr_path = data_path / \"lstcurr_UVW.pre\"\n",
    "lstwinds_path = data_path / \"lstwinds.pre\""
   ]
  },
  {
   "cell_type": "code",
   "execution_count": 15,
   "metadata": {},
   "outputs": [
    {
     "data": {
      "text/plain": [
       "(        lon       lat         u         v  time\n",
       " 0  9.618706  43.98785 -3.765736  0.509148   0.0\n",
       " 1  9.618706  44.11285 -3.765736  0.509148   0.0\n",
       " 2  9.618706  44.23785 -3.765736  0.509148   0.0,\n",
       " ' ',\n",
       " ' ',\n",
       " ' ',\n",
       "         lon       lat         u         v  time\n",
       " 0  9.618706  43.98785 -3.765736  0.509148   0.0\n",
       " 1  9.618706  44.11285 -3.765736  0.509148   0.0\n",
       " 2  9.618706  44.23785 -3.765736  0.509148   0.0)"
      ]
     },
     "execution_count": 15,
     "metadata": {},
     "output_type": "execute_result"
    }
   ],
   "source": [
    "currents_df, n_files, n_nodes = read_currents(lstcurr_path)\n",
    "winds_df, n_files, n_nodes = read_winds(lstwinds_path)\n",
    "\n",
    "currents_df.head(3), \" \", \" \", \" \", winds_df.head(3)"
   ]
  },
  {
   "cell_type": "code",
   "execution_count": 16,
   "metadata": {},
   "outputs": [
    {
     "data": {
      "image/png": "[encoded data removed]",
      "text/plain": [
       "<Figure size 640x480 with 1 Axes>"
      ]
     },
     "metadata": {},
     "output_type": "display_data"
    }
   ],
   "source": [
    "currents = [df for time, df in currents_df.groupby(\"time\")]\n",
    "winds = [df for time, df in winds_df.groupby(\"time\")]\n",
    "times = [time for time, df in winds_df.groupby(\"time\")]\n",
    "\n",
    "time = 1\n",
    "mod_currents = np.sqrt(currents[time].u ** 2 + currents[time].v ** 2)\n",
    "mod_winds = np.sqrt(currents[time].u ** 2 + currents[time].v ** 2)\n",
    "\n",
    "fig = plt.figure()\n",
    "ax = fig.add_subplot(1, 1, 1)\n",
    "q1 = ax.quiver(\n",
    "    currents[time].lon,\n",
    "    currents[time].lat,\n",
    "    currents[time].u,\n",
    "    currents[time].v,\n",
    "    mod_currents,\n",
    "    cmap=\"jet\",\n",
    ")\n",
    "q2 = ax.quiver(\n",
    "    winds[time].lon,\n",
    "    winds[time].lat,\n",
    "    winds[time].u,\n",
    "    winds[time].v,\n",
    "    mod_winds,\n",
    "    cmap=\"jet\",\n",
    ")\n",
    "\n",
    "title = ax.set_title(f\"Currents at time: {time}\")"
   ]
  }
 ],
 "metadata": {
  "kernelspec": {
   "display_name": "pyteseo-dev",
   "language": "python",
   "name": "python3"
  },
  "language_info": {
   "codemirror_mode": {
    "name": "ipython",
    "version": 3
   },
   "file_extension": ".py",
   "mimetype": "text/x-python",
   "name": "python",
   "nbconvert_exporter": "python",
   "pygments_lexer": "ipython3",
   "version": "3.10.8"
  },
  "orig_nbformat": 4,
  "vscode": {
   "interpreter": {
    "hash": "792594d832ea4326378f39c6741adae5559c80a209244a934d002d1e59cc9c68"
   }
  }
 },
 "nbformat": 4,
 "nbformat_minor": 2
}
