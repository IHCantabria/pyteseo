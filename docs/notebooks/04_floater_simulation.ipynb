{
 "cells": [
  {
   "attachments": {},
   "cell_type": "markdown",
   "metadata": {},
   "source": [
    "# Generate forcings"
   ]
  },
  {
   "cell_type": "markdown",
   "metadata": {},
   "source": [
    "[![Open In Colab](https://colab.research.google.com/assets/colab-badge.svg)](https://colab.research.google.com/github/IHCantabria/pyteseo/blob/main/docs/notebooks/04_create_forcings.ipynb)"
   ]
  },
  {
   "cell_type": "markdown",
   "metadata": {},
   "source": [
    "## Install pyTESEO\n",
    "- If you are running this notebook from `Google colab` uncomment and run `!pip install pyteseo && pyteseo-tests` in the cell below. \n",
    "Doing this you will install `pyteseo` from `pypi` repository and run `pyteseo-tests` to check the installation (all tests have to succeed).\n",
    "\n",
    "- If you are using this notebook in your own local machine you need to install the library from the local repo `pip install .` or pypi `pip install pyteseo`."
   ]
  },
  {
   "cell_type": "code",
   "execution_count": null,
   "metadata": {},
   "outputs": [],
   "source": [
    "# !pip install pyteseo && pyteseo-tests"
   ]
  },
  {
   "cell_type": "code",
   "execution_count": null,
   "metadata": {},
   "outputs": [],
   "source": [
    "import xarray as xr\n",
    "from datetime import datetime, timedelta\n",
    "from pyteseo.io.forcings import write_2d_forcing\n",
    "from pyteseo.wrapper import TeseoWrapper\n",
    "from pathlib import Path"
   ]
  },
  {
   "cell_type": "code",
   "execution_count": null,
   "metadata": {},
   "outputs": [],
   "source": [
    "# COPERNICUS OPENDAP ACCESS\n",
    "!pip install pydap\n",
    "\n",
    "\n",
    "# Funcion to save Dataset object in multiple netcdf files by day\n",
    "def to_daily_netcdf(ds: xr.Dataset, output_path: str, netcdf_format: str = None):\n",
    "    from pathlib import Path\n",
    "\n",
    "    output_path = str(Path(output_path).resolve())\n",
    "    output_dir = str(Path(output_path).parent)\n",
    "    filename, file_ext = str(Path(output_path).stem), str(Path(output_path).suffix)\n",
    "\n",
    "    date, datasets = zip(*ds.groupby(\"time.date\"))\n",
    "    paths = [f\"{output_dir}/{filename}_{d}{file_ext}\" for d in date]\n",
    "    xr.save_mfdataset(datasets, paths, format=netcdf_format)\n",
    "    return paths"
   ]
  },
  {
   "cell_type": "code",
   "execution_count": null,
   "metadata": {},
   "outputs": [],
   "source": [
    "def generate_forcing(\n",
    "    lon_min, lon_max, lat_min, lat_max, t_min, t_max, dataset_id, dir_path, forcing_type\n",
    "):\n",
    "\n",
    "    longitudes = slice(lon_min, lon_max)\n",
    "    latitudes = slice(lat_min, lat_max)\n",
    "    times = slice(t_min, t_max)\n",
    "\n",
    "    data_store = _copernicusmarine_datastore(dataset_id, username, password)\n",
    "    ds = xr.open_dataset(data_store)\n",
    "\n",
    "    ds_subset = ds.sel(\n",
    "        longitude=longitudes,\n",
    "        latitude=latitudes,\n",
    "        time=times,\n",
    "        method=\"nearest\",\n",
    "    )\n",
    "\n",
    "    write_2d_forcing(ds_subset, dir_path, forcing_type)"
   ]
  },
  {
   "cell_type": "code",
   "execution_count": null,
   "metadata": {},
   "outputs": [],
   "source": [
    "dir_path = Path(\"test_simulation\")\n",
    "\n",
    "job = TeseoWrapper(dir_path)\n",
    "\n",
    "lon_min = -5.5\n",
    "lon_max = -1\n",
    "lat_min = 43.25\n",
    "lat_max = 44.25\n",
    "\n",
    "t_min = datetime.utcnow().replace(hour=0, minute=0, second=0, microsecond=0)\n",
    "t_max = t_min + timedelta(days=5)\n",
    "\n",
    "global_cmems_datasets = [\n",
    "    {\n",
    "        \"dataset_id\": \"cmems_mod_glo_phy_anfc_merged-uv_PT1H-i\",\n",
    "        \"dataset_type\": \"currents\",\n",
    "    },\n",
    "    {\n",
    "        \"dataset_id\": \"cmems_obs-wind_glo_phy_nrt_l4_0.125deg_PT1H\",\n",
    "        \"dataset_type\": \"winds\",\n",
    "    },\n",
    "]\n",
    "\n",
    "\n",
    "for dataset in global_cmems_datasets:\n",
    "    generate_forcing(\n",
    "        lon_min,\n",
    "        lon_max,\n",
    "        lat_min,\n",
    "        lat_max,\n",
    "        t_min,\n",
    "        t_max,\n",
    "        dataset[\"dataset_id\"],\n",
    "        dir_path,\n",
    "        dataset[\"dataset_type\"],\n",
    "    )\n",
    "\n",
    "job.load_inputs()"
   ]
  }
 ],
 "metadata": {
  "kernelspec": {
   "display_name": "Python 3",
   "language": "python",
   "name": "python3"
  },
  "language_info": {
   "codemirror_mode": {
    "name": "ipython",
    "version": 3
   },
   "file_extension": ".py",
   "mimetype": "text/x-python",
   "name": "python",
   "nbconvert_exporter": "python",
   "pygments_lexer": "ipython3",
   "version": "3.8.10"
  },
  "orig_nbformat": 4,
  "vscode": {
   "interpreter": {
    "hash": "916dbcbb3f70747c44a77c7bcd40155683ae19c65e1c03b4aa3499c5328201f1"
   }
  }
 },
 "nbformat": 4,
 "nbformat_minor": 2
}
