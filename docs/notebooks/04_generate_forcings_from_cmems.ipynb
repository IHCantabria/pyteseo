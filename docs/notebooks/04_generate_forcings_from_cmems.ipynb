{
 "cells": [
  {
   "attachments": {},
   "cell_type": "markdown",
   "metadata": {},
   "source": [
    "# Generate forcings"
   ]
  },
  {
   "cell_type": "markdown",
   "metadata": {},
   "source": [
    "[![Open In Colab](https://colab.research.google.com/assets/colab-badge.svg)](https://colab.research.google.com/github/IHCantabria/pyteseo/blob/main/docs/notebooks/04_create_forcings.ipynb)"
   ]
  },
  {
   "cell_type": "markdown",
   "metadata": {},
   "source": [
    "## Install pyTESEO\n",
    "- If you are running this notebook from `Google colab` uncomment and run `!pip install pyteseo && pyteseo-tests` in the cell below. \n",
    "Doing this you will install `pyteseo` from `pypi` repository and run `pyteseo-tests` to check the installation (all tests have to succeed).\n",
    "\n",
    "- If you are using this notebook in your own local machine you need to install the library from the local repo `pip install .` or pypi `pip install pyteseo`."
   ]
  },
  {
   "cell_type": "code",
   "execution_count": 20,
   "metadata": {},
   "outputs": [],
   "source": [
    "# !pip install pyteseo && pyteseo-tests"
   ]
  },
  {
   "cell_type": "code",
   "execution_count": 21,
   "metadata": {},
   "outputs": [],
   "source": [
    "import os\n",
    "import xarray as xr\n",
    "from datetime import datetime, timedelta\n",
    "from pyteseo.io.forcings import write_2d_forcing\n",
    "from pyteseo.wrapper import TeseoWrapper\n",
    "from pyteseo.connections.cmems import access_global_currents, access_global_winds\n",
    "from pathlib import Path\n",
    "\n",
    "\n",
    "username = os.environ.get(\"CMEMS_username\")\n",
    "password = os.environ.get(\"CMEMS_password\")"
   ]
  },
  {
   "cell_type": "code",
   "execution_count": 22,
   "metadata": {},
   "outputs": [],
   "source": [
    "# Define time range and domain to extract forcings\n",
    "lon_min = -5.5\n",
    "lon_max = -1\n",
    "lat_min = 43.25\n",
    "lat_max = 44.25\n",
    "\n",
    "date_ini = datetime(2022, 1, 6)\n",
    "date_end = date_ini + timedelta(days=3)\n",
    "\n",
    "bbox = (lon_min, lat_min, lon_max, lat_max)\n",
    "timebox = (date_ini, date_end)"
   ]
  },
  {
   "cell_type": "code",
   "execution_count": 23,
   "metadata": {},
   "outputs": [
    {
     "name": "stdout",
     "output_type": "stream",
     "text": [
      "\u001b[1;32m username='garagon' login successful! 🙂 \u001b[0;0m\n",
      "\n"
     ]
    },
    {
     "name": "stderr",
     "output_type": "stream",
     "text": [
      "/home/aragong/miniconda3/envs/pyteseo-dev/lib/python3.11/site-packages/pyteseo/connections/cmems.py:131: UserWarning: rename 'time' to 'time' does not create an index anymore. Try using swap_dims instead or use set_index after rename to create an indexed coordinate.\n",
      "  return ds.rename({ds_t: standard_t, ds_x: standard_x, ds_y: standard_y})\n"
     ]
    },
    {
     "data": {
      "text/html": [
       "<div>\n",
       "<style scoped>\n",
       "    .dataframe tbody tr th:only-of-type {\n",
       "        vertical-align: middle;\n",
       "    }\n",
       "\n",
       "    .dataframe tbody tr th {\n",
       "        vertical-align: top;\n",
       "    }\n",
       "\n",
       "    .dataframe thead th {\n",
       "        text-align: right;\n",
       "    }\n",
       "</style>\n",
       "<table border=\"1\" class=\"dataframe\">\n",
       "  <thead>\n",
       "    <tr style=\"text-align: right;\">\n",
       "      <th></th>\n",
       "      <th>time</th>\n",
       "      <th>lat</th>\n",
       "      <th>lon</th>\n",
       "      <th>u</th>\n",
       "      <th>v</th>\n",
       "    </tr>\n",
       "  </thead>\n",
       "  <tbody>\n",
       "    <tr>\n",
       "      <th>0</th>\n",
       "      <td>0.0</td>\n",
       "      <td>43.166668</td>\n",
       "      <td>-5.583333</td>\n",
       "      <td>NaN</td>\n",
       "      <td>NaN</td>\n",
       "    </tr>\n",
       "    <tr>\n",
       "      <th>1</th>\n",
       "      <td>0.0</td>\n",
       "      <td>43.166668</td>\n",
       "      <td>-5.500000</td>\n",
       "      <td>NaN</td>\n",
       "      <td>NaN</td>\n",
       "    </tr>\n",
       "    <tr>\n",
       "      <th>2</th>\n",
       "      <td>0.0</td>\n",
       "      <td>43.166668</td>\n",
       "      <td>-5.416667</td>\n",
       "      <td>NaN</td>\n",
       "      <td>NaN</td>\n",
       "    </tr>\n",
       "    <tr>\n",
       "      <th>3</th>\n",
       "      <td>0.0</td>\n",
       "      <td>43.166668</td>\n",
       "      <td>-5.333333</td>\n",
       "      <td>NaN</td>\n",
       "      <td>NaN</td>\n",
       "    </tr>\n",
       "    <tr>\n",
       "      <th>4</th>\n",
       "      <td>0.0</td>\n",
       "      <td>43.166668</td>\n",
       "      <td>-5.250000</td>\n",
       "      <td>NaN</td>\n",
       "      <td>NaN</td>\n",
       "    </tr>\n",
       "    <tr>\n",
       "      <th>...</th>\n",
       "      <td>...</td>\n",
       "      <td>...</td>\n",
       "      <td>...</td>\n",
       "      <td>...</td>\n",
       "      <td>...</td>\n",
       "    </tr>\n",
       "    <tr>\n",
       "      <th>63265</th>\n",
       "      <td>73.0</td>\n",
       "      <td>44.333332</td>\n",
       "      <td>-1.250000</td>\n",
       "      <td>NaN</td>\n",
       "      <td>NaN</td>\n",
       "    </tr>\n",
       "    <tr>\n",
       "      <th>63266</th>\n",
       "      <td>73.0</td>\n",
       "      <td>44.333332</td>\n",
       "      <td>-1.166667</td>\n",
       "      <td>NaN</td>\n",
       "      <td>NaN</td>\n",
       "    </tr>\n",
       "    <tr>\n",
       "      <th>63267</th>\n",
       "      <td>73.0</td>\n",
       "      <td>44.333332</td>\n",
       "      <td>-1.083333</td>\n",
       "      <td>NaN</td>\n",
       "      <td>NaN</td>\n",
       "    </tr>\n",
       "    <tr>\n",
       "      <th>63268</th>\n",
       "      <td>73.0</td>\n",
       "      <td>44.333332</td>\n",
       "      <td>-1.000000</td>\n",
       "      <td>NaN</td>\n",
       "      <td>NaN</td>\n",
       "    </tr>\n",
       "    <tr>\n",
       "      <th>63269</th>\n",
       "      <td>73.0</td>\n",
       "      <td>44.333332</td>\n",
       "      <td>-0.916667</td>\n",
       "      <td>NaN</td>\n",
       "      <td>NaN</td>\n",
       "    </tr>\n",
       "  </tbody>\n",
       "</table>\n",
       "<p>63270 rows × 5 columns</p>\n",
       "</div>"
      ],
      "text/plain": [
       "       time        lat       lon   u   v\n",
       "0       0.0  43.166668 -5.583333 NaN NaN\n",
       "1       0.0  43.166668 -5.500000 NaN NaN\n",
       "2       0.0  43.166668 -5.416667 NaN NaN\n",
       "3       0.0  43.166668 -5.333333 NaN NaN\n",
       "4       0.0  43.166668 -5.250000 NaN NaN\n",
       "...     ...        ...       ...  ..  ..\n",
       "63265  73.0  44.333332 -1.250000 NaN NaN\n",
       "63266  73.0  44.333332 -1.166667 NaN NaN\n",
       "63267  73.0  44.333332 -1.083333 NaN NaN\n",
       "63268  73.0  44.333332 -1.000000 NaN NaN\n",
       "63269  73.0  44.333332 -0.916667 NaN NaN\n",
       "\n",
       "[63270 rows x 5 columns]"
      ]
     },
     "execution_count": 23,
     "metadata": {},
     "output_type": "execute_result"
    }
   ],
   "source": [
    "df_currents = access_global_currents(username, password, bbox, timebox)\n",
    "df_currents"
   ]
  },
  {
   "cell_type": "code",
   "execution_count": 24,
   "metadata": {},
   "outputs": [
    {
     "name": "stdout",
     "output_type": "stream",
     "text": [
      "\u001b[1;32m username='garagon' login successful! 🙂 \u001b[0;0m\n",
      "\n"
     ]
    },
    {
     "data": {
      "text/html": [
       "<div>\n",
       "<style scoped>\n",
       "    .dataframe tbody tr th:only-of-type {\n",
       "        vertical-align: middle;\n",
       "    }\n",
       "\n",
       "    .dataframe tbody tr th {\n",
       "        vertical-align: top;\n",
       "    }\n",
       "\n",
       "    .dataframe thead th {\n",
       "        text-align: right;\n",
       "    }\n",
       "</style>\n",
       "<table border=\"1\" class=\"dataframe\">\n",
       "  <thead>\n",
       "    <tr style=\"text-align: right;\">\n",
       "      <th></th>\n",
       "      <th>time</th>\n",
       "      <th>lat</th>\n",
       "      <th>lon</th>\n",
       "      <th>u</th>\n",
       "      <th>v</th>\n",
       "    </tr>\n",
       "  </thead>\n",
       "  <tbody>\n",
       "    <tr>\n",
       "      <th>0</th>\n",
       "      <td>0.0</td>\n",
       "      <td>43.1875</td>\n",
       "      <td>-5.5625</td>\n",
       "      <td>0.15</td>\n",
       "      <td>-0.04</td>\n",
       "    </tr>\n",
       "    <tr>\n",
       "      <th>1</th>\n",
       "      <td>0.0</td>\n",
       "      <td>43.1875</td>\n",
       "      <td>-5.4375</td>\n",
       "      <td>0.38</td>\n",
       "      <td>-0.33</td>\n",
       "    </tr>\n",
       "    <tr>\n",
       "      <th>2</th>\n",
       "      <td>0.0</td>\n",
       "      <td>43.1875</td>\n",
       "      <td>-5.3125</td>\n",
       "      <td>0.41</td>\n",
       "      <td>-0.56</td>\n",
       "    </tr>\n",
       "    <tr>\n",
       "      <th>3</th>\n",
       "      <td>0.0</td>\n",
       "      <td>43.1875</td>\n",
       "      <td>-5.1875</td>\n",
       "      <td>0.36</td>\n",
       "      <td>-0.64</td>\n",
       "    </tr>\n",
       "    <tr>\n",
       "      <th>4</th>\n",
       "      <td>0.0</td>\n",
       "      <td>43.1875</td>\n",
       "      <td>-5.0625</td>\n",
       "      <td>0.23</td>\n",
       "      <td>-0.57</td>\n",
       "    </tr>\n",
       "    <tr>\n",
       "      <th>...</th>\n",
       "      <td>...</td>\n",
       "      <td>...</td>\n",
       "      <td>...</td>\n",
       "      <td>...</td>\n",
       "      <td>...</td>\n",
       "    </tr>\n",
       "    <tr>\n",
       "      <th>28495</th>\n",
       "      <td>74.0</td>\n",
       "      <td>44.3125</td>\n",
       "      <td>-1.4375</td>\n",
       "      <td>9.26</td>\n",
       "      <td>-4.76</td>\n",
       "    </tr>\n",
       "    <tr>\n",
       "      <th>28496</th>\n",
       "      <td>74.0</td>\n",
       "      <td>44.3125</td>\n",
       "      <td>-1.3125</td>\n",
       "      <td>7.84</td>\n",
       "      <td>-3.94</td>\n",
       "    </tr>\n",
       "    <tr>\n",
       "      <th>28497</th>\n",
       "      <td>74.0</td>\n",
       "      <td>44.3125</td>\n",
       "      <td>-1.1875</td>\n",
       "      <td>5.86</td>\n",
       "      <td>-2.52</td>\n",
       "    </tr>\n",
       "    <tr>\n",
       "      <th>28498</th>\n",
       "      <td>74.0</td>\n",
       "      <td>44.3125</td>\n",
       "      <td>-1.0625</td>\n",
       "      <td>4.99</td>\n",
       "      <td>-1.65</td>\n",
       "    </tr>\n",
       "    <tr>\n",
       "      <th>28499</th>\n",
       "      <td>74.0</td>\n",
       "      <td>44.3125</td>\n",
       "      <td>-0.9375</td>\n",
       "      <td>4.60</td>\n",
       "      <td>-1.06</td>\n",
       "    </tr>\n",
       "  </tbody>\n",
       "</table>\n",
       "<p>28500 rows × 5 columns</p>\n",
       "</div>"
      ],
      "text/plain": [
       "       time      lat     lon     u     v\n",
       "0       0.0  43.1875 -5.5625  0.15 -0.04\n",
       "1       0.0  43.1875 -5.4375  0.38 -0.33\n",
       "2       0.0  43.1875 -5.3125  0.41 -0.56\n",
       "3       0.0  43.1875 -5.1875  0.36 -0.64\n",
       "4       0.0  43.1875 -5.0625  0.23 -0.57\n",
       "...     ...      ...     ...   ...   ...\n",
       "28495  74.0  44.3125 -1.4375  9.26 -4.76\n",
       "28496  74.0  44.3125 -1.3125  7.84 -3.94\n",
       "28497  74.0  44.3125 -1.1875  5.86 -2.52\n",
       "28498  74.0  44.3125 -1.0625  4.99 -1.65\n",
       "28499  74.0  44.3125 -0.9375  4.60 -1.06\n",
       "\n",
       "[28500 rows x 5 columns]"
      ]
     },
     "execution_count": 24,
     "metadata": {},
     "output_type": "execute_result"
    }
   ],
   "source": [
    "df_winds = access_global_winds(username, password, bbox, timebox)\n",
    "df_winds"
   ]
  },
  {
   "cell_type": "code",
   "execution_count": 25,
   "metadata": {},
   "outputs": [
    {
     "name": "stdout",
     "output_type": "stream",
     "text": [
      "\n",
      "\n",
      "Creating TESEO folder structure...\n",
      "DONE! Created @ /home/aragong/repositories/pyteseo/tmp/test_simulation\n",
      "\n"
     ]
    }
   ],
   "source": [
    "dir_path = Path(\"../../tmp/test_simulation\")\n",
    "job = TeseoWrapper(dir_path)"
   ]
  },
  {
   "cell_type": "code",
   "execution_count": 26,
   "metadata": {},
   "outputs": [],
   "source": [
    "write_2d_forcing(df_currents, job.input_dir, \"currents\")\n",
    "write_2d_forcing(df_winds, job.input_dir, \"winds\")"
   ]
  },
  {
   "cell_type": "code",
   "execution_count": 27,
   "metadata": {},
   "outputs": [
    {
     "name": "stdout",
     "output_type": "stream",
     "text": [
      "['winds_029h.txt\\n', 'winds_030h.txt\\n', 'winds_004h.txt\\n', 'currents_026h.txt\\n', 'winds_031h.txt\\n', 'currents_055h.txt\\n', 'currents_004h.txt\\n', 'winds_021h.txt\\n', 'winds_026h.txt\\n', 'winds_057h.txt\\n', 'winds_027h.txt\\n', 'currents_045h.txt\\n', 'winds_040h.txt\\n', 'currents_020h.txt\\n', 'currents_014h.txt\\n', 'currents_018h.txt\\n', 'currents_058h.txt\\n', 'currents_040h.txt\\n', 'currents_069h.txt\\n', 'currents_029h.txt\\n', 'currents_015h.txt\\n', 'currents_041h.txt\\n', 'lstwinds.pre\\n', 'currents_031h.txt\\n', 'currents_054h.txt\\n', 'winds_063h.txt\\n', 'winds_022h.txt\\n', 'winds_009h.txt\\n', 'winds_058h.txt\\n', 'winds_035h.txt\\n', 'winds_033h.txt\\n', 'currents_049h.txt\\n', 'winds_015h.txt\\n', 'currents_012h.txt\\n', 'currents_032h.txt\\n', 'winds_046h.txt\\n', 'currents_019h.txt\\n', 'winds_006h.txt\\n', 'winds_008h.txt\\n', 'winds_062h.txt\\n', 'currents_035h.txt\\n', 'winds_013h.txt\\n', 'currents_017h.txt\\n', 'winds_028h.txt\\n', 'winds_070h.txt\\n', 'currents_072h.txt\\n', 'winds_041h.txt\\n', 'winds_036h.txt\\n', 'winds_012h.txt\\n', 'winds_003h.txt\\n', 'currents_010h.txt\\n', 'winds_073h.txt\\n', 'currents_033h.txt\\n', 'currents_005h.txt\\n', 'winds_067h.txt\\n', 'winds_005h.txt\\n', 'currents_028h.txt\\n', 'currents_039h.txt\\n', 'currents_050h.txt\\n', 'winds_049h.txt\\n', 'winds_025h.txt\\n', 'currents_016h.txt\\n', 'winds_066h.txt\\n', 'winds_064h.txt\\n', 'winds_061h.txt\\n', 'currents_046h.txt\\n', 'currents_056h.txt\\n', 'winds_007h.txt\\n', 'currents_001h.txt\\n', 'currents_000h.txt\\n', 'winds_072h.txt\\n', 'winds_034h.txt\\n', 'winds_023h.txt\\n', 'currents_070h.txt\\n', 'winds_039h.txt\\n', 'winds_037h.txt\\n', 'currents_013h.txt\\n', 'winds_044h.txt\\n', 'currents_044h.txt\\n', 'winds_069h.txt\\n', 'winds_068h.txt\\n', 'currents_053h.txt\\n', 'currents_057h.txt\\n', 'winds_016h.txt\\n', 'currents_051h.txt\\n', 'winds_011h.txt\\n', 'currents_061h.txt\\n', 'winds_053h.txt\\n', 'currents_065h.txt\\n', 'winds_052h.txt\\n', 'currents_048h.txt\\n', 'winds_050h.txt\\n', 'winds_059h.txt\\n', 'winds_010h.txt\\n', 'currents_003h.txt\\n', 'winds_051h.txt\\n', 'currents_024h.txt\\n', 'currents_063h.txt\\n', 'currents_043h.txt\\n', 'currents_008h.txt\\n', 'winds_055h.txt\\n', 'winds_071h.txt\\n', 'currents_066h.txt\\n', 'winds_042h.txt\\n', 'currents_023h.txt\\n', 'winds_056h.txt\\n', 'currents_027h.txt\\n', 'currents_071h.txt\\n', 'currents_059h.txt\\n', 'currents_036h.txt\\n', 'currents_025h.txt\\n', 'winds_043h.txt\\n', 'currents_068h.txt\\n', 'winds_032h.txt\\n', 'winds_074h.txt\\n', 'winds_020h.txt\\n', 'winds_054h.txt\\n', 'currents_006h.txt\\n', 'winds_014h.txt\\n', 'currents_037h.txt\\n', 'currents_062h.txt\\n', 'currents_052h.txt\\n', 'currents_034h.txt\\n', 'winds_045h.txt\\n', 'winds_017h.txt\\n', 'winds_047h.txt\\n', 'currents_073h.txt\\n', 'winds_001h.txt\\n', 'currents_007h.txt\\n', 'currents_002h.txt\\n', 'winds_065h.txt\\n', 'currents_022h.txt\\n', 'currents_030h.txt\\n', 'currents_042h.txt\\n', 'currents_038h.txt\\n', 'winds_060h.txt\\n', 'winds_019h.txt\\n', 'lstcurr_UVW.pre\\n', 'currents_067h.txt\\n', 'winds_002h.txt\\n', 'currents_021h.txt\\n', 'currents_009h.txt\\n', 'winds_024h.txt\\n', 'winds_000h.txt\\n', 'currents_011h.txt\\n', 'currents_060h.txt\\n', 'currents_047h.txt\\n', 'winds_038h.txt\\n', 'winds_048h.txt\\n', 'currents_064h.txt\\n', 'winds_018h.txt\\n']\n"
     ]
    }
   ],
   "source": [
    "print([str(path.name) + \"\\n\" for path in Path(job.input_dir).glob(\"*.*\")])"
   ]
  }
 ],
 "metadata": {
  "kernelspec": {
   "display_name": "pyteseo-dev",
   "language": "python",
   "name": "python3"
  },
  "language_info": {
   "codemirror_mode": {
    "name": "ipython",
    "version": 3
   },
   "file_extension": ".py",
   "mimetype": "text/x-python",
   "name": "python",
   "nbconvert_exporter": "python",
   "pygments_lexer": "ipython3",
   "version": "3.11.0"
  },
  "orig_nbformat": 4,
  "vscode": {
   "interpreter": {
    "hash": "792594d832ea4326378f39c6741adae5559c80a209244a934d002d1e59cc9c68"
   }
  }
 },
 "nbformat": 4,
 "nbformat_minor": 2
}
